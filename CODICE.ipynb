{
 "cells": [
  {
   "cell_type": "markdown",
   "metadata": {},
   "source": [
    "# 1. Imports e Configurazione"
   ]
  },
  {
   "cell_type": "markdown",
   "metadata": {},
   "source": [
    "##### Questa sezione include tutti gli import necessari per l’estrazione e l’analisi dei dati dai vari servizi e file."
   ]
  },
  {
   "cell_type": "code",
   "execution_count": null,
   "metadata": {},
   "outputs": [],
   "source": [
    "# Imports principali e configurazione\n",
    "import sqlite3\n",
    "import requests\n",
    "import json\n",
    "import re\n",
    "import io\n",
    "from bs4 import BeautifulSoup\n",
    "from concurrent.futures import ThreadPoolExecutor, as_completed\n",
    "from PyPDF2 import PdfReader\n",
    "import pytesseract\n",
    "from PIL import Image\n",
    "import logging\n",
    "import streamlit as st\n",
    "\n",
    "# Configurazione logging\n",
    "logging.basicConfig(level=logging.INFO, format='%(asctime)s - %(levelname)s - %(message)s')\n",
    "\n",
    "# Configurazione pytesseract (se necessario)\n",
    "pytesseract.pytesseract.tesseract_cmd = r'C:\\Program Files\\Tesseract-OCR\\tesseract.exe'\n"
   ]
  },
  {
   "cell_type": "markdown",
   "metadata": {},
   "source": [
    "# 2. Funzioni per estrarre da CIR"
   ]
  },
  {
   "cell_type": "markdown",
   "metadata": {},
   "source": [
    "##### Queste funzioni gestiscono l'estrazione di link e dati dai report CIR (Cosmetic Ingredient Review)."
   ]
  },
  {
   "cell_type": "code",
   "execution_count": null,
   "metadata": {},
   "outputs": [],
   "source": [
    "# Funzione per creare una sessione di richieste con strategie di retry\n",
    "def create_session():\n",
    "    retry_strategy = Retry(\n",
    "        total=5,\n",
    "        backoff_factor=1,\n",
    "        status_forcelist=[429, 500, 502, 503, 504],\n",
    "        allowed_methods=[\"HEAD\", \"GET\", \"OPTIONS\"]\n",
    "    )\n",
    "    adapter = HTTPAdapter(max_retries=retry_strategy)\n",
    "    session = requests.Session()\n",
    "    session.mount(\"https://\", adapter)\n",
    "    session.mount(\"http://\", adapter)\n",
    "    return session\n",
    "\n",
    "# Funzione per estrarre il primo link di status da CIR\n",
    "def extract_first_status_link(session, url):\n",
    "    try:\n",
    "        response = session.get(url)\n",
    "        response.raise_for_status()\n",
    "        soup = BeautifulSoup(response.text, 'html.parser')\n",
    "        status_links = soup.find('table').find_all('a')\n",
    "        if not status_links:\n",
    "            return None\n",
    "        first_link = \"https://cir-reports.cir-safety.org/\" + status_links[0]['href'].replace(\"../\", \"\")\n",
    "        return first_link\n",
    "    except requests.RequestException as e:\n",
    "        logging.error(f\"Error retrieving status link from CIR: {e}\")\n",
    "        return None\n",
    "\n",
    "# Funzione per processare un ingrediente e ottenere il PDF CIR\n",
    "def get_pdf_for_ingredient(session, ingredient_id):\n",
    "    url = f\"https://cir-reports.cir-safety.org/cir-ingredient-status-report/?id={ingredient_id}\"\n",
    "    pdf_link = extract_first_status_link(session, url)\n",
    "    if pdf_link:\n",
    "        response = session.get(pdf_link)\n",
    "        if response.status_code == 200:\n",
    "            return io.BytesIO(response.content)\n",
    "    return None\n"
   ]
  },
  {
   "cell_type": "markdown",
   "metadata": {},
   "source": [
    "# 3. Gestione PDF"
   ]
  },
  {
   "cell_type": "markdown",
   "metadata": {},
   "source": [
    "##### Queste funzioni si occupano dell'estrazione di testo dai PDF, sia testuali che in formato immagine."
   ]
  },
  {
   "cell_type": "code",
   "execution_count": null,
   "metadata": {},
   "outputs": [],
   "source": [
    "# Funzione per estrarre testo da PDF\n",
    "def extract_text_from_pdf(pdf_content):\n",
    "    reader = PdfReader(io.BytesIO(pdf_content))\n",
    "    text = \"\"\n",
    "    for page_num in range(len(reader.pages)):\n",
    "        page = reader.pages[page_num]\n",
    "        text += page.extract_text() or \"\"\n",
    "    return text\n",
    "\n",
    "# Funzione per estrarre testo da PDF con immagini utilizzando pytesseract\n",
    "def extract_text_from_image_pdf(pdf_content):\n",
    "    pdf = fitz.open(stream=pdf_content, filetype=\"pdf\")\n",
    "    extracted_text = \"\"\n",
    "    for page_num in range(len(pdf)):\n",
    "        page = pdf.load_page(page_num)\n",
    "        pix = page.get_pixmap()\n",
    "        img = Image.open(io.BytesIO(pix.tobytes()))\n",
    "        text = pytesseract.image_to_string(img, lang='eng')\n",
    "        extracted_text += text + \"\\n\\n\"\n",
    "    return extracted_text\n"
   ]
  },
  {
   "cell_type": "markdown",
   "metadata": {},
   "source": [
    "# 4. Funzioni per estrarre da PubChem"
   ]
  },
  {
   "cell_type": "markdown",
   "metadata": {},
   "source": [
    "##### Funzioni per ottenere informazioni su un ingrediente utilizzando l'API PubChem."
   ]
  },
  {
   "cell_type": "code",
   "execution_count": null,
   "metadata": {},
   "outputs": [],
   "source": [
    "# Funzione per ottenere il CID di un ingrediente da PubChem\n",
    "def get_pubchem_cid(session, ingredient_name):\n",
    "    url = f\"https://pubchem.ncbi.nlm.nih.gov/rest/pug/compound/name/{ingredient_name}/cids/JSON\"\n",
    "    try:\n",
    "        response = session.get(url)\n",
    "        response.raise_for_status()\n",
    "        data = response.json()\n",
    "        cid = str(data['IdentifierList']['CID'][0])\n",
    "        return cid\n",
    "    except (requests.RequestException, KeyError, IndexError, ValueError) as e:\n",
    "        logging.error(f\"Error retrieving PubChem CID for {ingredient_name}: {e}\")\n",
    "        return None\n",
    "\n",
    "# Funzione per ottenere i valori LD50 da PubChem\n",
    "def get_ld50_pubchem(session, cid):\n",
    "    url = f\"https://pubchem.ncbi.nlm.nih.gov/rest/pug_view/data/compound/{cid}/JSON/\"\n",
    "    try:\n",
    "        response = session.get(url)\n",
    "        response.raise_for_status()\n",
    "        data = response.json()\n",
    "        sections = data['Record']['Section']\n",
    "        ld50_values = []\n",
    "        def extract_ld50(sections):\n",
    "            for section in sections:\n",
    "                if 'Section' in section:\n",
    "                    extract_ld50(section['Section'])\n",
    "                if 'Information' in section:\n",
    "                    for info in section['Information']:\n",
    "                        if 'Value' in info and 'StringWithMarkup' in info['Value']:\n",
    "                            for item in info['Value']['StringWithMarkup']:\n",
    "                                if 'LD50' in item['String']:\n",
    "                                    ld50_values.append(item['String'])\n",
    "        extract_ld50(sections)\n",
    "        return ld50_values if ld50_values else None\n",
    "    except (requests.RequestException, KeyError, IndexError, ValueError) as e:\n",
    "        logging.error(f\"Error retrieving LD50 from PubChem for CID {cid}: {e}\")\n",
    "        return None\n"
   ]
  },
  {
   "cell_type": "markdown",
   "metadata": {},
   "source": [
    "# 5. Funzioni per estrarre da ECHA"
   ]
  },
  {
   "cell_type": "markdown",
   "metadata": {},
   "source": [
    "##### Questa sezione si occupa dell'estrazione dei dati di tossicità da ECHA utilizzando Selenium per navigare il sito."
   ]
  },
  {
   "cell_type": "code",
   "execution_count": null,
   "metadata": {},
   "outputs": [],
   "source": [
    "# Funzione per inizializzare il driver Selenium\n",
    "def initialize_driver():\n",
    "    options = webdriver.ChromeOptions()\n",
    "    options.add_argument('--disable-extensions')\n",
    "    options.add_argument('--disable-gpu')\n",
    "    options.add_argument('--no-sandbox')\n",
    "    options.add_argument('--disable-dev-shm-usage')\n",
    "    options.add_argument('--headless')\n",
    "    driver = webdriver.Chrome(service=Service(ChromeDriverManager().install()), options=options)\n",
    "    return driver\n",
    "\n",
    "# Funzione per ottenere i dati di tossicità da ECHA\n",
    "def get_toxicity_data_for_ingredient(driver, ingredient):\n",
    "    api_url = f\"https://chem.echa.europa.eu/api-substance/v1/substance?pageIndex=1&pageSize=100&searchText={ingredient.replace(' ', '%20')}\"\n",
    "    response = requests.get(api_url)\n",
    "    response.raise_for_status()\n",
    "    data = response.json()\n",
    "    if not data['items']:\n",
    "        return None, None\n",
    "    rmlId = data['items'][0]['substanceIndex']['rmlId']\n",
    "    dossier_api_url = f\"https://chem.echa.europa.eu/api-dossier-list/v1/dossier?pageIndex=1&pageSize=100&rmlId={rmlId}&registrationStatuses=Active\"\n",
    "    dossier_response = requests.get(dossier_api_url)\n",
    "    dossier_response.raise_for_status()\n",
    "    dossier_data = dossier_response.json()\n",
    "    if not dossier_data['items']:\n",
    "        return None, None\n",
    "    asset_external_id = dossier_data['items'][0]['assetExternalId']\n",
    "    html_page_url = f\"https://chem.echa.europa.eu/html-pages/{asset_external_id}/index.html\"\n",
    "    driver.get(html_page_url)\n",
    "    WebDriverWait(driver, 10).until(lambda driver: driver.current_url == html_page_url)\n",
    "    page_source = driver.page_source\n",
    "    soup = BeautifulSoup(page_source, 'html.parser')\n",
    "    href_value = extract_href(soup, 'Acute Toxicity')\n",
    "    if not href_value:\n",
    "        href_value = extract_href(soup, 'Toxicological information')\n",
    "    document_url = f\"https://chem.echa.europa.eu/html-pages/{asset_external_id}/documents/{href_value}.html\"\n",
    "    document_content = fetch_document_content(document_url)\n",
    "    soup = BeautifulSoup(document_content, 'html.parser')\n",
    "    text_content = soup.get_text(separator=' ', strip=True)\n",
    "    echa_value = extract_values(text_content)\n",
    "    return echa_value, document_url\n"
   ]
  },
  {
   "cell_type": "markdown",
   "metadata": {},
   "source": [
    "# 6. Funzioni per estrarre da EFSA"
   ]
  },
  {
   "cell_type": "markdown",
   "metadata": {},
   "source": [
    "##### Non la trovo più sorry!"
   ]
  },
  {
   "cell_type": "markdown",
   "metadata": {},
   "source": [
    "# 7. Funzioni per estrazione dei valori specifici"
   ]
  },
  {
   "cell_type": "markdown",
   "metadata": {},
   "source": [
    "##### Funzioni per estrarre specifici valori dai testi (e.g., LD50, NOAEL)."
   ]
  },
  {
   "cell_type": "code",
   "execution_count": null,
   "metadata": {},
   "outputs": [],
   "source": [
    "# Funzione per trovare valori specifici in un testo\n",
    "def find_values(text, term):\n",
    "    pattern = fr'{term}\\s*[:/]?'\n",
    "    if term == \"LD50\":\n",
    "        pattern = fr'LD\\s*[\\n]*50\\s*[:/]?'\n",
    "    matches = re.finditer(pattern, text, re.IGNORECASE)\n",
    "    values = []\n",
    "    for match in matches:\n",
    "        start_index = match.end()\n",
    "        words = text[start_index:start_index+100].split()[:20]\n",
    "        for word in words:\n",
    "            if re.match(r'\\d+(\\.\\d+)?', word):\n",
    "                values.append((word, start_index))\n",
    "                break\n",
    "    return values\n"
   ]
  },
  {
   "cell_type": "markdown",
   "metadata": {},
   "source": [
    "# 8. Connessione al Database"
   ]
  },
  {
   "cell_type": "markdown",
   "metadata": {},
   "source": [
    "##### Funzioni per gestire la connessione e operazioni sul database SQLite."
   ]
  },
  {
   "cell_type": "code",
   "execution_count": null,
   "metadata": {},
   "outputs": [],
   "source": [
    "# Funzione per stabilire la connessione al database\n",
    "def get_db_connection():\n",
    "    conn = sqlite3.connect('app/data/ingredients.db')\n",
    "    conn.row_factory = sqlite3.Row\n",
    "    return conn\n",
    "\n",
    "# Funzione per aggiornare valori nel database\n",
    "def update_ingredient_value_in_db(ingredient_id, value_updated):\n",
    "    conn = get_db_connection()\n",
    "    cursor = conn.cursor()\n",
    "    query = \"\"\"\n",
    "    UPDATE ingredients\n",
    "    SET value_updated = ?\n",
    "    WHERE pcpc_ingredientid = ?\n",
    "    \"\"\"\n",
    "    cursor.execute(query, (value_updated, ingredient_id))\n",
    "    conn.commit()\n",
    "    conn.close()\n",
    "\n",
    "# Funzione per cercare ingredienti nel database\n",
    "def search_ingredient(ingredient_name_or_id):\n",
    "    conn = get_db_connection()\n",
    "    cursor = conn.cursor()\n",
    "    query = \"\"\"\n",
    "    SELECT \n",
    "        pcpc_ingredientid AS id, \n",
    "        pcpc_ingredientname AS name, \n",
    "        NOAEL_CIR, \n",
    "        LD50_CIR, \n",
    "        LD50_PubChem, \n",
    "        echa_value,\n",
    "        echa_dossier\n",
    "    FROM ingredients\n",
    "    WHERE pcpc_ingredientid = ? OR pcpc_ingredientname = ?\n",
    "    \"\"\"\n",
    "    cursor.execute(query, (ingredient_name_or_id, ingredient_name_or_id))\n",
    "    result = cursor.fetchone()\n",
    "    conn.close()\n",
    "    return result\n",
    "\n",
    "# Funzione per rimuovere valori aggiornati\n",
    "def remove_updated_value(ingredient_id):\n",
    "    conn = get_db_connection()\n",
    "    cursor = conn.cursor()\n",
    "    query = \"\"\"\n",
    "    UPDATE ingredients\n",
    "    SET value_updated = NULL\n",
    "    WHERE pcpc_ingredientid = ?\n",
    "    \"\"\"\n",
    "    cursor.execute(query, (ingredient_id,))\n",
    "    conn.commit()\n",
    "    conn.close()\n"
   ]
  },
  {
   "cell_type": "markdown",
   "metadata": {},
   "source": [
    "# 9. Mostra valori"
   ]
  },
  {
   "cell_type": "markdown",
   "metadata": {},
   "source": [
    "##### Funzioni per mostrare i valori estratti e visualizzarli."
   ]
  },
  {
   "cell_type": "code",
   "execution_count": 1,
   "metadata": {},
   "outputs": [],
   "source": [
    "# Funzione per mostrare i valori trovati e i loro contesti\n",
    "def display_values(common_values, pdf_text):\n",
    "    if not common_values:\n",
    "        st.write(\"No values found.\")\n",
    "        return\n",
    "\n",
    "    for value, occurrences in common_values:\n",
    "        with st.expander(f\"Value: {value}\"):\n",
    "            for i, (_, start_index) in enumerate(occurrences, 1):\n",
    "                text_before = pdf_text[:start_index].split()[-20:]\n",
    "                text_after = pdf_text[start_index:].split()[:20]\n",
    "                surrounding_text = ' '.join(text_before + [f\"<span style='color:red; font-weight:bold;'>{value}</span>\"] + text_after)\n",
    "                st.write(f\"Occurrence {i}:\")\n",
    "                st.markdown(f\"...{surrounding_text}...\", unsafe_allow_html=True)\n",
    "\n",
    "# Funzione per visualizzare i risultati con streamlit\n",
    "def show_ingredient_values(ingredient_name):\n",
    "    ingredient = search_ingredient(ingredient_name)\n",
    "    if ingredient:\n",
    "        st.markdown(f\"<h3>Ingredient: {ingredient['name']}</h3>\", unsafe_allow_html=True)\n",
    "        if ingredient['NOAEL_CIR']:\n",
    "            st.write(\"NOAEL CIR Values:\")\n",
    "            for value, context in json.loads(ingredient['NOAEL_CIR']):\n",
    "                st.write(f\"Value: {value}\")\n",
    "                with st.expander(\"Context\"):\n",
    "                    st.write(context)\n",
    "        if ingredient['LD50_CIR']:\n",
    "            st.write(\"LD50 CIR Values:\")\n",
    "            for value, context in json.loads(ingredient['LD50_CIR']):\n",
    "                st.write(f\"Value: {value}\")\n",
    "                with st.expander(\"Context\"):\n",
    "                    st.write(context)\n",
    "        if ingredient['LD50_PubChem']:\n",
    "            st.write(\"LD50 PubChem Values:\")\n",
    "            for value, context in json.loads(ingredient['LD50_PubChem']):\n",
    "                st.write(f\"Value: {value}\")\n",
    "                with st.expander(\"Context\"):\n",
    "                    st.write(context)\n",
    "    else:\n",
    "        st.write(\"Ingredient not found.\")\n"
   ]
  }
 ],
 "metadata": {
  "kernelspec": {
   "display_name": "Python 3",
   "language": "python",
   "name": "python3"
  },
  "language_info": {
   "codemirror_mode": {
    "name": "ipython",
    "version": 3
   },
   "file_extension": ".py",
   "mimetype": "text/x-python",
   "name": "python",
   "nbconvert_exporter": "python",
   "pygments_lexer": "ipython3",
   "version": "3.12.6"
  }
 },
 "nbformat": 4,
 "nbformat_minor": 2
}
